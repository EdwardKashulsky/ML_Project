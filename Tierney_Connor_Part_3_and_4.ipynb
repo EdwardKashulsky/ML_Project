{
  "cells": [
    {
      "cell_type": "code",
      "execution_count": 5,
      "metadata": {
        "colab": {
          "base_uri": "https://localhost:8080/"
        },
        "id": "jtZ_4psEbNHX",
        "outputId": "c5f8d829-424e-46aa-b932-0053c36b9531"
      },
      "outputs": [
        {
          "output_type": "stream",
          "name": "stdout",
          "text": [
            "Model 1 (AdaBoost) accuracy: 0.9646107178968655\n",
            "Model 2 (Gradient Boosting) accuracy: 0.967644084934277\n",
            "Model 3 (KNeighbors) accuracy: 0.9696663296258847\n",
            "Top 5 Important Features for AdaBoostClassifier:\n",
            "1. Feature:  Retained Earnings to Total Assets, Importance: 0.0600\n",
            "2. Feature:  ROA(B) before interest and depreciation after tax, Importance: 0.0500\n",
            "3. Feature:  Operating profit per person, Importance: 0.0500\n",
            "4. Feature:  Cash/Total Assets, Importance: 0.0500\n",
            "5. Feature:  Cash Flow to Total Assets, Importance: 0.0500\n",
            "Top 5 Important Features for GradientBoostingClassifier:\n",
            "1. Feature:  Net Income to Stockholder's Equity, Importance: 0.1983\n",
            "2. Feature:  Borrowing dependency, Importance: 0.1302\n",
            "3. Feature:  Net Value Per Share (B), Importance: 0.0741\n",
            "4. Feature:  Cash/Current Liability, Importance: 0.0417\n",
            "5. Feature:  Net profit before tax/Paid-in capital, Importance: 0.0412\n",
            "Meta Model Accuracy: 0.9706774519716885\n",
            "[[955   2]\n",
            " [ 27   5]]\n"
          ]
        }
      ],
      "source": [
        "import pandas as pd\n",
        "import numpy as np\n",
        "from sklearn.ensemble import AdaBoostClassifier, StackingClassifier, GradientBoostingClassifier\n",
        "from sklearn.linear_model import LogisticRegression\n",
        "from sklearn.neighbors import KNeighborsClassifier\n",
        "from sklearn.model_selection import train_test_split, cross_val_score\n",
        "from sklearn.metrics import accuracy_score, confusion_matrix\n",
        "\n",
        "# Part 3\n",
        "\n",
        "df = pd.read_csv('/content/sample_data/train_data_with_groups.csv')\n",
        "x_train, x_test, y_train, y_test = train_test_split(df.drop(['Bankrupt?', 'Group'], axis=1), df['Group'], train_size=0.8, random_state=42)\n",
        "\n",
        "df = df[df['Group'] == 0]\n",
        "x_train, x_test, y_train, y_test = train_test_split(df.drop(['Bankrupt?', 'Group'], axis=1), df['Bankrupt?'], train_size=0.8, random_state=42)\n",
        "\n",
        "# New models\n",
        "model1 = AdaBoostClassifier(n_estimators=100, random_state=42).fit(x_train, y_train)\n",
        "model2 = GradientBoostingClassifier(n_estimators=100, random_state=42).fit(x_train, y_train)\n",
        "model3 = KNeighborsClassifier().fit(x_train, y_train)\n",
        "\n",
        "model1_pred = model1.predict(x_test)\n",
        "model2_pred = model2.predict(x_test)\n",
        "model3_pred = model3.predict(x_test)\n",
        "\n",
        "print('Model 1 (AdaBoost) accuracy:', accuracy_score(y_test, model1_pred))\n",
        "print('Model 2 (Gradient Boosting) accuracy:', accuracy_score(y_test, model2_pred))\n",
        "print('Model 3 (KNeighbors) accuracy:', accuracy_score(y_test, model3_pred))\n",
        "\n",
        "# Printing the 5 most important features for AdaBoostClassifier\n",
        "print('Top 5 Important Features for AdaBoostClassifier:')\n",
        "feature_importance_model1 = list(zip(x_train.columns, model1.feature_importances_))\n",
        "feature_importance_model1.sort(key=lambda x: x[1], reverse=True)\n",
        "for i, (feature, importance) in enumerate(feature_importance_model1[:5]):\n",
        "    print(f'{i+1}. Feature: {feature}, Importance: {importance:.4f}')\n",
        "\n",
        "# Printing the 5 most important features for GradientBoostingClassifier\n",
        "print('Top 5 Important Features for GradientBoostingClassifier:')\n",
        "feature_importance_model2 = list(zip(x_train.columns, model2.feature_importances_))\n",
        "feature_importance_model2.sort(key=lambda x: x[1], reverse=True)\n",
        "for i, (feature, importance) in enumerate(feature_importance_model2[:5]):\n",
        "    print(f'{i+1}. Feature: {feature}, Importance: {importance:.4f}')\n",
        "\n",
        "combined_pred = np.column_stack((model1_pred, model2_pred, model3_pred))\n",
        "metaModel = LogisticRegression().fit(combined_pred, y_test)\n",
        "y_pred = metaModel.predict(combined_pred)\n",
        "print('Meta Model Accuracy:', accuracy_score(y_test, y_pred))\n",
        "print(confusion_matrix(y_test, y_pred))\n",
        "\n"
      ]
    },
    {
      "cell_type": "code",
      "source": [
        "# Part 4\n",
        "\n",
        "df = pd.read_csv('/content/sample_data/train_data_with_groups.csv')\n",
        "\n",
        "# New stacking classifier with different estimators\n",
        "stacking_clf = StackingClassifier(\n",
        "    estimators=[\n",
        "        ('lr', LogisticRegression(random_state=42)),\n",
        "        ('ab', AdaBoostClassifier(random_state=42)),\n",
        "        ('knn', KNeighborsClassifier())\n",
        "    ],\n",
        "    final_estimator=GradientBoostingClassifier(random_state=43),\n",
        "    cv=10\n",
        ")\n",
        "\n",
        "stacking_clf.fit(x_train, y_train)\n",
        "\n",
        "y_pred = stacking_clf.predict(x_test)\n",
        "print('Stacking Classifier Accuracy:', accuracy_score(y_test, y_pred))\n",
        "print(confusion_matrix(y_test, y_pred))\n",
        "\n",
        "# Part 4 - Cross-validation with new stacking classifier\n",
        "cross_val_scores = cross_val_score(stacking_clf, x_train, y_train, cv=10, scoring='accuracy')\n",
        "print(\"Cross-Validation Scores:\", cross_val_scores)\n"
      ],
      "metadata": {
        "colab": {
          "base_uri": "https://localhost:8080/"
        },
        "id": "XOZ7fn-RmVm0",
        "outputId": "58c2e218-fadb-427a-c4e8-90cf765b45fd"
      },
      "execution_count": 6,
      "outputs": [
        {
          "output_type": "stream",
          "name": "stdout",
          "text": [
            "Stacking Classifier Accuracy: 0.9686552072800809\n",
            "[[950   7]\n",
            " [ 24   8]]\n",
            "Cross-Validation Scores: [0.96717172 0.96464646 0.95707071 0.97222222 0.97727273 0.97721519\n",
            " 0.96202532 0.97468354 0.95696203 0.96962025]\n"
          ]
        }
      ]
    }
  ],
  "metadata": {
    "colab": {
      "provenance": []
    },
    "kernelspec": {
      "display_name": "Python 3",
      "name": "python3"
    },
    "language_info": {
      "name": "python"
    }
  },
  "nbformat": 4,
  "nbformat_minor": 0
}