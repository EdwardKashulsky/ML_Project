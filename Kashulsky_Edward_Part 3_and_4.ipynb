{
 "cells": [
  {
   "cell_type": "code",
   "execution_count": 15,
   "metadata": {
    "metadata": {}
   },
   "outputs": [],
   "source": [
    "import pandas as pd\n",
    "import numpy as np\n",
    "from sklearn.ensemble import RandomForestClassifier, GradientBoostingClassifier\n",
    "from sklearn.linear_model import LogisticRegression\n",
    "from sklearn.neural_network import MLPClassifier\n",
    "from sklearn.model_selection import train_test_split\n",
    "from sklearn.metrics import accuracy_score, confusion_matrix"
   ]
  },
  {
   "cell_type": "markdown",
   "metadata": {},
   "source": [
    "Part 3\n"
   ]
  },
  {
   "cell_type": "code",
   "execution_count": 16,
   "metadata": {
    "metadata": {}
   },
   "outputs": [
    {
     "name": "stdout",
     "output_type": "stream",
     "text": [
      "Accuracy: 0.9991394148020654\n"
     ]
    },
    {
     "data": {
      "text/html": [
       "<div>\n",
       "<style scoped>\n",
       "    .dataframe tbody tr th:only-of-type {\n",
       "        vertical-align: middle;\n",
       "    }\n",
       "\n",
       "    .dataframe tbody tr th {\n",
       "        vertical-align: top;\n",
       "    }\n",
       "\n",
       "    .dataframe thead th {\n",
       "        text-align: right;\n",
       "    }\n",
       "</style>\n",
       "<table border=\"1\" class=\"dataframe\">\n",
       "  <thead>\n",
       "    <tr style=\"text-align: right;\">\n",
       "      <th></th>\n",
       "      <th>Feature</th>\n",
       "      <th>Importance</th>\n",
       "    </tr>\n",
       "  </thead>\n",
       "  <tbody>\n",
       "    <tr>\n",
       "      <th>22</th>\n",
       "      <td>Fixed Assets Turnover Frequency</td>\n",
       "      <td>0.507801</td>\n",
       "    </tr>\n",
       "    <tr>\n",
       "      <th>25</th>\n",
       "      <td>Quick Assets/Total Assets</td>\n",
       "      <td>0.042498</td>\n",
       "    </tr>\n",
       "    <tr>\n",
       "      <th>21</th>\n",
       "      <td>Inventory and accounts receivable/Net value</td>\n",
       "      <td>0.035355</td>\n",
       "    </tr>\n",
       "    <tr>\n",
       "      <th>30</th>\n",
       "      <td>Working Capital/Equity</td>\n",
       "      <td>0.020734</td>\n",
       "    </tr>\n",
       "    <tr>\n",
       "      <th>35</th>\n",
       "      <td>Equity to Long-term Liability</td>\n",
       "      <td>0.020248</td>\n",
       "    </tr>\n",
       "  </tbody>\n",
       "</table>\n",
       "</div>"
      ],
      "text/plain": [
       "                                         Feature  Importance\n",
       "22               Fixed Assets Turnover Frequency    0.507801\n",
       "25                     Quick Assets/Total Assets    0.042498\n",
       "21   Inventory and accounts receivable/Net value    0.035355\n",
       "30                        Working Capital/Equity    0.020734\n",
       "35                 Equity to Long-term Liability    0.020248"
      ]
     },
     "execution_count": 16,
     "metadata": {},
     "output_type": "execute_result"
    }
   ],
   "source": [
    "df = pd.read_csv('train_data_with_groups.csv')\n",
    "x_train, x_test, y_train, y_test = train_test_split(df.drop(['Bankrupt?','Group'],axis=1), df['Group'], train_size=0.8, random_state=42)\n",
    "RFC = RandomForestClassifier().fit(x_train, y_train)\n",
    "y_pred = RFC.predict(x_test)\n",
    "print('Accuracy:',accuracy_score(y_test,y_pred))\n",
    "pd.DataFrame({'Feature': x_train.columns, 'Importance': RFC.feature_importances_}).sort_values(by='Importance', ascending=False).head()"
   ]
  },
  {
   "cell_type": "code",
   "execution_count": 17,
   "metadata": {
    "metadata": {}
   },
   "outputs": [
    {
     "name": "stdout",
     "output_type": "stream",
     "text": [
      "Model 1 accuracy: 0.9686552072800809\n",
      "Model 2 accuracy: 0.967644084934277\n",
      "Model 3 accuracy: 0.961577350859454\n",
      "Accuracy: 0.967644084934277\n"
     ]
    },
    {
     "data": {
      "text/plain": [
       "array([[957,   0],\n",
       "       [ 32,   0]], dtype=int64)"
      ]
     },
     "execution_count": 17,
     "metadata": {},
     "output_type": "execute_result"
    }
   ],
   "source": [
    "df = df[df['Group'] == 0]\n",
    "x_train, x_test, y_train, y_test = train_test_split(df.drop(['Bankrupt?','Group'],axis=1), df['Bankrupt?'], train_size=0.8, random_state=42)\n",
    "model1 = RandomForestClassifier(n_estimators=100, random_state=42).fit(x_train, y_train)\n",
    "model2 = GradientBoostingClassifier(n_estimators=100, random_state=42).fit(x_train, y_train)\n",
    "model3 = MLPClassifier(random_state=42).fit(x_train, y_train)\n",
    "model1_pred = model1.predict(x_test)\n",
    "model2_pred = model2.predict(x_test)\n",
    "model3_pred = model3.predict(x_test)\n",
    "print('Model 1 accuracy:',accuracy_score(y_test,model1_pred))\n",
    "print('Model 2 accuracy:',accuracy_score(y_test,model2_pred))\n",
    "print('Model 3 accuracy:',accuracy_score(y_test,model3_pred))\n",
    "combined_pred = np.column_stack((model1_pred, model1_pred, model3_pred))\n",
    "metaModel = LogisticRegression().fit(combined_pred,y_test)\n",
    "y_pred = metaModel.predict(combined_pred)\n",
    "print('Accuracy:',accuracy_score(y_test,y_pred))\n",
    "confusion_matrix(y_test, y_pred)"
   ]
  },
  {
   "cell_type": "markdown",
   "metadata": {},
   "source": [
    "Part 4"
   ]
  },
  {
   "cell_type": "code",
   "execution_count": null,
   "metadata": {},
   "outputs": [],
   "source": []
  }
 ],
 "metadata": {
  "kernelspec": {
   "display_name": "Python 3",
   "language": "python",
   "name": "python3"
  },
  "language_info": {
   "codemirror_mode": {
    "name": "ipython",
    "version": 3
   },
   "file_extension": ".py",
   "mimetype": "text/x-python",
   "name": "python",
   "nbconvert_exporter": "python",
   "pygments_lexer": "ipython3",
   "version": "3.11.9"
  }
 },
 "nbformat": 4,
 "nbformat_minor": 2
}
